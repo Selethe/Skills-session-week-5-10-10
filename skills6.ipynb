{
 "cells": [
  {
   "cell_type": "code",
   "execution_count": 1,
   "metadata": {},
   "outputs": [],
   "source": [
    "import pandas as pd"
   ]
  },
  {
   "cell_type": "code",
   "execution_count": 4,
   "metadata": {},
   "outputs": [
    {
     "name": "stdout",
     "output_type": "stream",
     "text": [
      "   1.00     14.23    1.71     2.43    15.60    127.00   2.80    3.06     \\\n",
      "0        1    13.20     1.78     2.14    11.2    100.0     2.65    2.76   \n",
      "1        1    13.16     2.36     2.67    18.6    101.0     2.80    3.24   \n",
      "2        1    14.37     1.95     2.50    16.8    113.0     3.85    3.49   \n",
      "3        1    13.24     2.59     2.87      21    118.0     2.80    2.69   \n",
      "4        1    14.20     1.76     2.45    15.2    112.0     3.27    3.39   \n",
      "\n",
      "  0.28     2.29     5.64    1.04    3.92     1065.00  \n",
      "0    0.26     1.28     4.38    1.05     3.4     1050  \n",
      "1     0.3     2.81     5.68    1.03    3.17     1185  \n",
      "2    0.24     2.18     7.80    0.86    3.45     1480  \n",
      "3    0.39     1.82     4.32    1.04    2.93      735  \n",
      "4    0.34     1.97     6.75    1.05    2.85     1450  \n"
     ]
    }
   ],
   "source": [
    "data = pd.read_excel('Wine.xlsx')\n",
    "print(data.head())"
   ]
  },
  {
   "cell_type": "code",
   "execution_count": 5,
   "metadata": {},
   "outputs": [
    {
     "data": {
      "text/plain": [
       "1.00       0\n",
       "14.23      0\n",
       "1.71       0\n",
       "2.43       1\n",
       "15.60      1\n",
       "127.00     1\n",
       "2.80       0\n",
       "3.06       1\n",
       "0.28       1\n",
       "2.29       0\n",
       "5.64       0\n",
       "1.04       0\n",
       "3.92       1\n",
       "1065.00    0\n",
       "dtype: int64"
      ]
     },
     "execution_count": 5,
     "metadata": {},
     "output_type": "execute_result"
    }
   ],
   "source": [
    "# Get missing values\n",
    "data.isna().sum()\n"
   ]
  }
 ],
 "metadata": {
  "kernelspec": {
   "display_name": "base",
   "language": "python",
   "name": "python3"
  },
  "language_info": {
   "codemirror_mode": {
    "name": "ipython",
    "version": 3
   },
   "file_extension": ".py",
   "mimetype": "text/x-python",
   "name": "python",
   "nbconvert_exporter": "python",
   "pygments_lexer": "ipython3",
   "version": "3.11.8"
  }
 },
 "nbformat": 4,
 "nbformat_minor": 2
}
